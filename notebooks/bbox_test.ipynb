{
 "cells": [
  {
   "cell_type": "code",
   "execution_count": 43,
   "id": "dbb8da45",
   "metadata": {},
   "outputs": [],
   "source": [
    "from cython_bbox import bbox_overlaps as bbox_ious\n",
    "import numpy as np\n",
    "import time\n",
    "from numba import njit"
   ]
  },
  {
   "cell_type": "code",
   "execution_count": 54,
   "id": "914dee52",
   "metadata": {},
   "outputs": [],
   "source": [
    "def get_random_boxes():\n",
    "    num_boxes1 = 100\n",
    "    boxes1 = np.random.uniform(0, 10, (num_boxes1, 4))\n",
    "    boxes1[:, 2:] = np.maximum(boxes1[:, :2], boxes1[:, 2:])\n",
    "    return boxes1"
   ]
  },
  {
   "cell_type": "code",
   "execution_count": 69,
   "id": "b0e4c675",
   "metadata": {},
   "outputs": [
    {
     "name": "stdout",
     "output_type": "stream",
     "text": [
      "0.15335440635681152\n"
     ]
    }
   ],
   "source": [
    "boxes1 = get_random_boxes()\n",
    "boxes2 = get_random_boxes()\n",
    "\n",
    "t1 = time.time()\n",
    "\n",
    "for i in range(1000):\n",
    "    bbox_ious(\n",
    "        np.ascontiguousarray(boxes1, dtype=float),\n",
    "        np.ascontiguousarray(boxes2, dtype=float)\n",
    "    )\n",
    "\n",
    "print(time.time() - t1)\n"
   ]
  },
  {
   "cell_type": "code",
   "execution_count": null,
   "id": "58c07e3c",
   "metadata": {},
   "outputs": [],
   "source": []
  },
  {
   "cell_type": "code",
   "execution_count": 66,
   "id": "ef94adbe",
   "metadata": {},
   "outputs": [],
   "source": [
    "@njit(parallel=True)\n",
    "def nb_box_ious(\n",
    "        boxes,\n",
    "        query_boxes):\n",
    "    N = boxes.shape[0]\n",
    "    K = query_boxes.shape[0]\n",
    "    overlaps = np.zeros((N, K), dtype=float)\n",
    "    for k in range(K):\n",
    "        box_area = (\n",
    "            (query_boxes[k, 2] - query_boxes[k, 0] + 1) *\n",
    "            (query_boxes[k, 3] - query_boxes[k, 1] + 1)\n",
    "        )\n",
    "        for n in range(N):\n",
    "            iw = (\n",
    "                min(boxes[n, 2], query_boxes[k, 2]) -\n",
    "                max(boxes[n, 0], query_boxes[k, 0]) + 1\n",
    "            )\n",
    "            if iw > 0:\n",
    "                ih = (\n",
    "                    min(boxes[n, 3], query_boxes[k, 3]) -\n",
    "                    max(boxes[n, 1], query_boxes[k, 1]) + 1\n",
    "                )\n",
    "                if ih > 0:\n",
    "                    ua = (boxes[n, 2] - boxes[n, 0] + 1) *(boxes[n, 3] - boxes[n, 1] + 1) +box_area - iw * ih\n",
    "\n",
    "                    overlaps[n, k] = iw * ih / ua\n",
    "    return overlaps"
   ]
  },
  {
   "cell_type": "code",
   "execution_count": 70,
   "id": "40e474d1",
   "metadata": {},
   "outputs": [
    {
     "name": "stdout",
     "output_type": "stream",
     "text": [
      "0.0685880184173584\n"
     ]
    }
   ],
   "source": [
    "boxes1 = get_random_boxes()\n",
    "boxes2 = get_random_boxes()\n",
    "\n",
    "t1 = time.time()\n",
    "for i in range(1000):\n",
    "    dumb_bbox_overlaps(\n",
    "        np.ascontiguousarray(boxes1, dtype=float),\n",
    "        np.ascontiguousarray(boxes2, dtype=float)\n",
    "    )\n",
    "\n",
    "print(time.time() - t1)"
   ]
  },
  {
   "cell_type": "code",
   "execution_count": 72,
   "id": "4a536649",
   "metadata": {},
   "outputs": [
    {
     "data": {
      "text/plain": [
       "array([[0.24271845, 0.36708861],\n",
       "       [0.62025316, 0.92857143]])"
      ]
     },
     "execution_count": 72,
     "metadata": {},
     "output_type": "execute_result"
    }
   ],
   "source": [
    "dumb_bbox_overlaps(\n",
    "np.ascontiguousarray(np.array([[0,0,1,1], [0.5,0.5,1.5,1.5]]), dtype=float),\n",
    "np.ascontiguousarray(np.array([[0.75,0.75,1.75,1.75], [0.5,0.55,1.55,1.55]]), dtype=float)\n",
    ")"
   ]
  }
 ],
 "metadata": {
  "kernelspec": {
   "display_name": "Python 3 (ipykernel)",
   "language": "python",
   "name": "python3"
  },
  "language_info": {
   "codemirror_mode": {
    "name": "ipython",
    "version": 3
   },
   "file_extension": ".py",
   "mimetype": "text/x-python",
   "name": "python",
   "nbconvert_exporter": "python",
   "pygments_lexer": "ipython3",
   "version": "3.9.19"
  }
 },
 "nbformat": 4,
 "nbformat_minor": 5
}
