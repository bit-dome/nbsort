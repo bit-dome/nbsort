{
 "cells": [
  {
   "cell_type": "code",
   "execution_count": 3,
   "id": "3585e99c",
   "metadata": {},
   "outputs": [],
   "source": [
    "import lap\n",
    "import numpy as np\n",
    "\n",
    "\n",
    "from lapjv import lapjv\n"
   ]
  },
  {
   "cell_type": "code",
   "execution_count": 102,
   "id": "67e3eaba",
   "metadata": {},
   "outputs": [
    {
     "name": "stdout",
     "output_type": "stream",
     "text": [
      "Random array of size 8x8:\n",
      "[[ 8.62924619  5.93566877  8.67824448  3.99831349  6.91971319  6.68783669\n",
      "   1.93025297  3.65754311]\n",
      " [ 7.94967544  6.9657782   6.20802007  3.56648094  7.24058188  7.36654522\n",
      "   3.64309208  4.98727952]\n",
      " [ 9.1250263   4.75974354  7.38704808  1.30169688 10.50904876  1.85194868\n",
      "   5.40222003  5.62307325]\n",
      " [ 7.0724897   7.73029221  6.65055547  9.89768349  1.47147634  9.90238704\n",
      "   6.80431889  8.6355886 ]\n",
      " [ 5.46136928  4.00887878  4.28677693  8.97948207  3.59502374  1.53378407\n",
      "   7.20149985  2.58006091]\n",
      " [ 7.84651303 10.57031938  6.31644816  4.80807659  1.19559282  5.45560073\n",
      "   2.37025263  8.35041271]\n",
      " [10.07944268  6.18554658  4.82078245  8.30245272  8.54102519  9.75954833\n",
      "   4.00360671  3.43396499]\n",
      " [ 8.43876112  6.21154306  8.15795765  4.91383524 10.33070606  9.11178066\n",
      "   2.60006268  4.85284604]]\n"
     ]
    }
   ],
   "source": [
    "\n",
    "rows = np.random.randint(3, 10)\n",
    "cols = np.random.randint(3, 10)\n",
    "\n",
    "# Generate the random 2D array with values between 1 and 10\n",
    "cost_matrix = np.random.uniform(1, 11, size=(rows, cols))\n",
    "\n",
    "\n",
    "print(f\"Random array of size {rows}x{cols}:\")\n",
    "print(cost_matrix)"
   ]
  },
  {
   "cell_type": "code",
   "execution_count": 90,
   "id": "14938b00",
   "metadata": {},
   "outputs": [
    {
     "name": "stdout",
     "output_type": "stream",
     "text": [
      "[-1  1 -1  4  5  3 -1 -1 -1]\n",
      "[-1  1 -1  5  3  4 -1]\n",
      "6.47651150468303\n"
     ]
    }
   ],
   "source": [
    "\n",
    "cost_limit=3\n",
    "\n",
    "cost, x, y = lap.lapjv(cost_matrix, extend_cost=True, cost_limit=cost_limit)\n",
    "\n",
    "print(x)\n",
    "print(y)\n",
    "print(cost)"
   ]
  },
  {
   "cell_type": "code",
   "execution_count": 81,
   "id": "764255c8",
   "metadata": {},
   "outputs": [
    {
     "name": "stdout",
     "output_type": "stream",
     "text": [
      "[ 0  1 -1  2  4 -1]\n",
      "[ 0  1  3 -1  4 -1]\n",
      "9.488326300733242\n"
     ]
    }
   ],
   "source": [
    "\n",
    "n_rows = cost_matrix.shape[0]\n",
    "n_cols = cost_matrix.shape[1]\n",
    "\n",
    "n = n_rows + n_cols\n",
    "cost_c_extended = np.empty((n, n), dtype=np.double)\n",
    "\n",
    "\n",
    "cost_c_extended[:] = cost_limit / 2.\n",
    "\n",
    "\n",
    "cost_c_extended[n_rows:, n_cols:] = 0\n",
    "cost_c_extended[:n_rows, :n_cols] = cost_matrix\n",
    "cost_c = cost_c_extended\n",
    "\n",
    "\n",
    "x, y, _ = lapjv(cost_c_extended)\n",
    "\n",
    "xf = np.where(x < n_cols, x, -1)[:n_rows]\n",
    "yf = np.where(y < n_rows, y, -1)[:n_cols]\n",
    "\n",
    "#print(cost)\n",
    "print(xf)\n",
    "print(yf)\n",
    "\n",
    "\n",
    "real_cost = 0\n",
    "for row_i , row in enumerate(cost_matrix):\n",
    "    if xf[row_i] >= 0:\n",
    "        real_cost += row[xf[row_i]]\n",
    "print(real_cost)"
   ]
  },
  {
   "cell_type": "code",
   "execution_count": null,
   "id": "fa24017c",
   "metadata": {},
   "outputs": [],
   "source": []
  },
  {
   "cell_type": "markdown",
   "id": "16f429b8",
   "metadata": {},
   "source": []
  },
  {
   "cell_type": "markdown",
   "id": "3ce28002",
   "metadata": {},
   "source": [
    "# Pymatgen"
   ]
  },
  {
   "cell_type": "code",
   "execution_count": 51,
   "id": "b355db11",
   "metadata": {},
   "outputs": [],
   "source": [
    "from pymatgen.optimization.linear_assignment import LinearAssignment"
   ]
  },
  {
   "cell_type": "code",
   "execution_count": 85,
   "id": "90ef2556",
   "metadata": {},
   "outputs": [
    {
     "name": "stdout",
     "output_type": "stream",
     "text": [
      "[ 0  1 -1  2  4 -1]\n",
      "[ 0.  1.  3. -1.  4. -1.]\n",
      "9.488326300733242\n"
     ]
    }
   ],
   "source": [
    "x = LinearAssignment(cost_c_extended).solution\n",
    "y = np.ones(len(x)) * -1\n",
    "for i, j in enumerate(x):\n",
    "    y[j] = i\n",
    "\n",
    "xf = np.where(x < n_cols, x, -1)[:n_rows]\n",
    "yf = np.where(y < n_rows, y, -1)[:n_cols]\n",
    "\n",
    "#print(cost)\n",
    "print(xf)\n",
    "print(yf)\n",
    "\n",
    "\n",
    "real_cost = 0\n",
    "for row_i , row in enumerate(cost_matrix):\n",
    "    if xf[row_i] >= 0:\n",
    "        real_cost += row[xf[row_i]]\n",
    "\n",
    "\n",
    "print(real_cost)"
   ]
  },
  {
   "cell_type": "markdown",
   "id": "3de7f595",
   "metadata": {},
   "source": [
    "# Scipy"
   ]
  },
  {
   "cell_type": "code",
   "execution_count": 41,
   "id": "9beaeebc",
   "metadata": {},
   "outputs": [],
   "source": [
    "from scipy.optimize import linear_sum_assignment"
   ]
  },
  {
   "cell_type": "code",
   "execution_count": 113,
   "id": "87eb288f",
   "metadata": {},
   "outputs": [],
   "source": [
    "cost_matrix = np.array([[1,2,3,4],[6,5,4,3]])"
   ]
  },
  {
   "cell_type": "code",
   "execution_count": 115,
   "id": "468034c4",
   "metadata": {},
   "outputs": [
    {
     "name": "stdout",
     "output_type": "stream",
     "text": [
      "[ 0 -1]\n",
      "[ 0 -1 -1 -1]\n",
      "1.0\n"
     ]
    }
   ],
   "source": [
    "cost_limit=3\n",
    "\n",
    "cost, x, y = lap.lapjv(cost_matrix, extend_cost=True, cost_limit=cost_limit)\n",
    "\n",
    "print(x)\n",
    "print(y)\n",
    "print(cost)"
   ]
  },
  {
   "cell_type": "code",
   "execution_count": 116,
   "id": "73445dea",
   "metadata": {},
   "outputs": [
    {
     "name": "stdout",
     "output_type": "stream",
     "text": [
      "[ 0 -1]\n",
      "[ 0. -1. -1. -1.]\n",
      "1\n"
     ]
    }
   ],
   "source": [
    "n_rows = cost_matrix.shape[0]\n",
    "n_cols = cost_matrix.shape[1]\n",
    "\n",
    "n = n_rows + n_cols\n",
    "cost_c_extended = np.empty((n, n), dtype=np.double)\n",
    "\n",
    "\n",
    "cost_c_extended[:] = cost_limit / 2.\n",
    "\n",
    "\n",
    "cost_c_extended[n_rows:, n_cols:] = 0\n",
    "cost_c_extended[:n_rows, :n_cols] = cost_matrix\n",
    "\n",
    "\n",
    "_, x = linear_sum_assignment(cost_c_extended)\n",
    "y = np.ones(len(x)) * -1\n",
    "for i, j in enumerate(x):\n",
    "    y[j] = i\n",
    "xf = np.where(x < n_cols, x, -1)[:n_rows]\n",
    "yf = np.where(y < n_rows, y, -1)[:n_cols]\n",
    "\n",
    "#print(cost)\n",
    "print(xf)\n",
    "print(yf)\n",
    "\n",
    "\n",
    "real_cost = 0\n",
    "for row_i , row in enumerate(cost_matrix):\n",
    "    if xf[row_i] >= 0:\n",
    "        real_cost += row[xf[row_i]]\n",
    "\n",
    "\n",
    "print(real_cost)"
   ]
  },
  {
   "cell_type": "code",
   "execution_count": 120,
   "id": "d0721d6e",
   "metadata": {},
   "outputs": [
    {
     "data": {
      "text/plain": [
       "array([0, 1, 2, 3, 4, 5], dtype=int64)"
      ]
     },
     "execution_count": 120,
     "metadata": {},
     "output_type": "execute_result"
    }
   ],
   "source": [
    "x\n",
    "y_fake"
   ]
  },
  {
   "cell_type": "code",
   "execution_count": null,
   "id": "26aafa5c",
   "metadata": {},
   "outputs": [],
   "source": []
  }
 ],
 "metadata": {
  "kernelspec": {
   "display_name": "Python 3 (ipykernel)",
   "language": "python",
   "name": "python3"
  },
  "language_info": {
   "codemirror_mode": {
    "name": "ipython",
    "version": 3
   },
   "file_extension": ".py",
   "mimetype": "text/x-python",
   "name": "python",
   "nbconvert_exporter": "python",
   "pygments_lexer": "ipython3",
   "version": "3.9.19"
  }
 },
 "nbformat": 4,
 "nbformat_minor": 5
}
