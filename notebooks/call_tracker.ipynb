{
 "cells": [
  {
   "cell_type": "code",
   "execution_count": 1,
   "id": "3585e99c",
   "metadata": {},
   "outputs": [],
   "source": [
    "import argparse\n",
    "from tracker.bot_sort import BoTSORT\n",
    "import numpy as np"
   ]
  },
  {
   "cell_type": "code",
   "execution_count": 2,
   "id": "c4f7f218",
   "metadata": {},
   "outputs": [
    {
     "data": {
      "text/plain": [
       "_StoreAction(option_strings=['--proximity_thresh'], dest='proximity_thresh', nargs=None, const=None, default=0.5, type=<class 'float'>, choices=None, required=False, help='threshold for rejecting low overlap reid matches', metavar=None)"
      ]
     },
     "execution_count": 2,
     "metadata": {},
     "output_type": "execute_result"
    }
   ],
   "source": [
    "parser = argparse.ArgumentParser(\"\")\n",
    "parser.add_argument(\"--name\", default=\"BotSORT\", type=str)\n",
    "\n",
    "parser.add_argument(\"--track_high_thresh\", type=float, default=0.6, help=\"tracking confidence threshold\")\n",
    "parser.add_argument(\"--track_low_thresh\", default=0.1, type=float, help=\"lowest detection threshold\")\n",
    "parser.add_argument(\"--new_track_thresh\", default=0.7, type=float, help=\"new track thresh\")\n",
    "parser.add_argument(\"--track_buffer\", type=int, default=30, help=\"the frames for keep lost tracks\")\n",
    "parser.add_argument(\"--match_thresh\", type=float, default=0.8, help=\"matching threshold for tracking\")\n",
    "parser.add_argument(\"--aspect_ratio_thresh\", type=float, default=1.6, help=\"threshold for filtering out boxes of which aspect ratio are above the given value.\")\n",
    "parser.add_argument('--min_box_area', type=float, default=10, help='filter out tiny boxes')\n",
    "parser.add_argument(\"--fuse-score\", dest=\"fuse_score\", default=False, action=\"store_true\", help=\"fuse score and iou for association\")\n",
    "parser.add_argument(\"--cmc-method\", default=\"orb\", type=str, help=\"cmc method: files (Vidstab GMC) | orb | ecc\")\n",
    "\n",
    "\n",
    "parser.add_argument('--proximity_thresh', type=float, default=0.5, help='threshold for rejecting low overlap reid matches')"
   ]
  },
  {
   "cell_type": "code",
   "execution_count": 8,
   "id": "48b4d9d8",
   "metadata": {},
   "outputs": [],
   "source": [
    "args = parser.parse_args(args=[])\n",
    "args.ablation = False\n",
    "args.mot20 = not args.fuse_score"
   ]
  },
  {
   "cell_type": "code",
   "execution_count": 10,
   "id": "c070db2a",
   "metadata": {},
   "outputs": [],
   "source": [
    "tracker = BoTSORT(args, frame_rate=30)"
   ]
  },
  {
   "cell_type": "code",
   "execution_count": 11,
   "id": "395eaa1b",
   "metadata": {},
   "outputs": [],
   "source": [
    "detections = np.array([[1,2,3,4,0.5,0],[1,2,3,4,0.5,0]])\n",
    "raw_image= np.zeros([300,300,3], np.uint8)"
   ]
  },
  {
   "cell_type": "code",
   "execution_count": 12,
   "id": "47e9bd75",
   "metadata": {},
   "outputs": [],
   "source": [
    "online_targets = tracker.update(detections, raw_image)"
   ]
  },
  {
   "cell_type": "code",
   "execution_count": null,
   "id": "43bbe768",
   "metadata": {},
   "outputs": [],
   "source": [
    "\n",
    "\n",
    "\n",
    "\n",
    "\n",
    "for t in online_targets:\n",
    "    tlwh = t.tlwh\n",
    "    tid = t.track_id\n",
    "    vertical = tlwh[2] / tlwh[3] > args.aspect_ratio_thresh\n",
    "    if tlwh[2] * tlwh[3] > args.min_box_area and not vertical:\n",
    "        online_tlwhs.append(tlwh)\n",
    "        online_ids.append(tid)\n",
    "        online_scores.append(t.score)\n",
    "        results.append(\n",
    "            f\"{frame_id},{tid},{tlwh[0]:.2f},{tlwh[1]:.2f},{tlwh[2]:.2f},{tlwh[3]:.2f},{t.score:.2f},-1,-1,-1\\n\"\n",
    "        )\n",
    "        \n",
    "        \n",
    "        \n"
   ]
  }
 ],
 "metadata": {
  "kernelspec": {
   "display_name": "Python 3 (ipykernel)",
   "language": "python",
   "name": "python3"
  },
  "language_info": {
   "codemirror_mode": {
    "name": "ipython",
    "version": 3
   },
   "file_extension": ".py",
   "mimetype": "text/x-python",
   "name": "python",
   "nbconvert_exporter": "python",
   "pygments_lexer": "ipython3",
   "version": "3.9.16"
  }
 },
 "nbformat": 4,
 "nbformat_minor": 5
}
